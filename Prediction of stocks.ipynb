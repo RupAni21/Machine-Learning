{
 "cells": [
  {
   "cell_type": "code",
   "execution_count": null,
   "metadata": {},
   "outputs": [],
   "source": [
    "import numpy as np\n",
    "from datetime import datetime\n",
    "import smtplib\n",
    "import time\n",
    "from selenium import webdriver\n",
    "#For Prediction\n",
    "from sklearn.linear_model import LinearRegression\n",
    "from sklearn import preprocessing, cross_validation, svm\n",
    "#For Stock Data\n",
    "from iexfinance import Stock\n",
    "from iexfinance import get_historical_data\n",
    "\n",
    "#Navigating to the Yahoo stock screener\n",
    "driver = webdriver.Chrome(executable_path='/Users/aniketmuluk/Documents/chromedriver')\n",
    "\n",
    "\n",
    "url = 'https://finance.yahoo.com/screener/predefined/aggressive_small_caps?offset=0&count=202'\n",
    "\n",
    "driver.get(url)\n",
    "\n",
    "stock_list = []\n",
    "for i in range(1, 100):\n",
    "    ticker = driver.find_element_by_xpath('//*[@id =\"scr-res-table\"]/div[2]/table/tbody/tr['+str(i)+']/td[1]/a')\n",
    "    stock_list.append(ticker.text)\n",
    "\n",
    "print len(stock_list)\n",
    "print(stock_list)\n",
    "\n",
    "for i in stock_list:\n",
    "    try:\n",
    "        predictData(i, 5)\n",
    "    except:\n",
    "        print(\"Stock: \" + i + \" was not predicted\")\n",
    "\n",
    "start = datetime(2017, 1, 1)\n",
    "end = datetime.now()\n",
    "#Outputting the Historical data into a .csv for later use\n",
    "df = get_historical_data(\"BZUN\", start=start, end=end,     output_format='pandas')\n",
    "df\n",
    "\n",
    "csv_name = ('Baozun_Inc.csv')\n",
    "df.to_csv(csv_name)\n",
    "df['prediction'] = df['close'].shift(-1)\n",
    "df.dropna(inplace=True)\n",
    "#forecast_time = int(days)\n",
    "\n",
    "X = np.array(df.drop(['prediction'], 1))\n",
    "Y = np.array(df['prediction'])\n",
    "X = preprocessing.scale(X)\n",
    "X_prediction = X[-5:]\n",
    "X_train, X_test, Y_train, Y_test =         cross_validation.train_test_split(X, Y, test_size=0.5)\n",
    "\n",
    "#Performing the Regression on the training data\n",
    "clf = LinearRegression()\n",
    "clf.fit(X_train, Y_train)\n",
    "prediction = (clf.predict(X_prediction))\n",
    "\n",
    "df"
   ]
  },
  {
   "cell_type": "code",
   "execution_count": null,
   "metadata": {},
   "outputs": [],
   "source": []
  }
 ],
 "metadata": {
  "kernelspec": {
   "display_name": "Python 2",
   "language": "python",
   "name": "python2"
  },
  "language_info": {
   "codemirror_mode": {
    "name": "ipython",
    "version": 2
   },
   "file_extension": ".py",
   "mimetype": "text/x-python",
   "name": "python",
   "nbconvert_exporter": "python",
   "pygments_lexer": "ipython2",
   "version": "2.7.15"
  }
 },
 "nbformat": 4,
 "nbformat_minor": 2
}
