{
 "cells": [
  {
   "cell_type": "code",
   "execution_count": 1,
   "metadata": {},
   "outputs": [
    {
     "name": "stdout",
     "output_type": "stream",
     "text": [
      "Enter Company Name:MILLENIUM\n"
     ]
    }
   ],
   "source": [
    "import requests\n",
    "from bs4 import BeautifulSoup\n",
    "import pandas as pd\n",
    "import time\n",
    "from selenium import webdriver\n",
    "from selenium.webdriver.common.keys import Keys\n",
    "import re\n",
    "from selenium.common.exceptions import NoSuchElementException\n",
    "\n",
    "def extract_job_title_from_result(soup): \n",
    "    jobs = []\n",
    "    for div in soup.find_all(name=\"div\", attrs={\"class\":\"row\"}):\n",
    "        for a in div.find_all(name=\"a\", attrs={\"data-tn-element\":\"jobTitle\"}):\n",
    "            jobs.append(a[\"title\"])\n",
    "            \n",
    "    return(jobs)\n",
    "\n",
    "def access_extract_data(company):\n",
    "    # create a new Firefox session\n",
    "    url = \"https://www.indeed.com/q-{}-jobs.html\".format(company)\n",
    "    driver = webdriver.Firefox(executable_path = '/Users/aniketmuluk/Downloads/geckodriver-1')\n",
    "    driver.implicitly_wait(30)\n",
    "    driver.get(url)\n",
    "    try:\n",
    "        dismiss_button = driver.find_element_by_id(\"searchCountPages\")\n",
    "        dismiss_button.click()\n",
    "    except NoSuchElementException:\n",
    "        pass\n",
    "        \n",
    "    try:\n",
    "        nu_pages = driver.find_element_by_id(\"searchCountPages\")\n",
    "        number_pages = nu_pages.text\n",
    "        number_pages = number_pages.replace(\",\",\"\")\n",
    "        Number_of_pages = (map(int, re.findall(r'\\d+', number_pages))[1])//10\n",
    "        n = Number_of_pages+1\n",
    "    except NoSuchElementException:\n",
    "        return None \n",
    "    \n",
    "    List_job_titles =[]\n",
    "    i=2\n",
    "    for i in range(2,n+1):\n",
    "        html = driver.find_element_by_id('resultsCol')\n",
    "        data_html = html.get_attribute('innerHTML')\n",
    "        soup = BeautifulSoup(data_html, 'html.parser')\n",
    "        List_job_titles.append(extract_job_title_from_result(soup))\n",
    "        try:\n",
    "            python_button = driver.find_element_by_link_text('{}'.format(i))\n",
    "            python_button.click()\n",
    "            time.sleep(10)\n",
    "            driver.refresh()\n",
    "        except:\n",
    "            break\n",
    "    \n",
    "        \n",
    "    return List_job_titles\n",
    "\n",
    "def main():\n",
    "    company = str(raw_input(\"Enter Company Name:\"))\n",
    "    company = company.replace(\" \",\"+\")\n",
    "    job_titles = access_extract_data(company)\n",
    "    if job_titles == None:\n",
    "        print \"No Jobs\"\n",
    "    else:\n",
    "        flat_list_job_titles = []\n",
    "        for sublist in job_titles:\n",
    "            for item in sublist:\n",
    "                flat_list_job_titles.append(item)\n",
    "        df = pd.DataFrame(flat_list_job_titles)\n",
    "        df.to_csv('{}.csv'.format(company), sep='\\t', encoding='utf-8')\n",
    "\n",
    "if __name__ == \"__main__\":\n",
    "    main()"
   ]
  },
  {
   "cell_type": "code",
   "execution_count": null,
   "metadata": {},
   "outputs": [],
   "source": []
  }
 ],
 "metadata": {
  "kernelspec": {
   "display_name": "Python 2",
   "language": "python",
   "name": "python2"
  },
  "language_info": {
   "codemirror_mode": {
    "name": "ipython",
    "version": 2
   },
   "file_extension": ".py",
   "mimetype": "text/x-python",
   "name": "python",
   "nbconvert_exporter": "python",
   "pygments_lexer": "ipython2",
   "version": "2.7.15"
  }
 },
 "nbformat": 4,
 "nbformat_minor": 2
}
