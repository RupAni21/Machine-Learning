{
 "cells": [
  {
   "cell_type": "code",
   "execution_count": null,
   "metadata": {},
   "outputs": [],
   "source": [
    "import pandas as pd\n",
    "import numpy as np\n",
    "import scipy\n",
    "from sklearn.metrics import classification_report\n",
    "from sklearn.cluster import KMeans\n",
    "\n",
    "filename = \"/users/aniketmuluk/Desktop/500movie_kmeans_data.csv\"\n",
    "data = pd.read_csv(filename, names=None)\n",
    "print(data.shape)\n",
    "\n",
    "data.head(5)\n",
    "\n",
    "std_values = data[['Standardization of (Cast total facebook likes)','Standardization of (num voted users)']].values\n",
    "\n",
    "\n",
    "\n",
    "kmeans = KMeans(n_clusters = 3)\n",
    "kmeans\n",
    "\n",
    "KMmodel = kmeans.fit(std_values)\n",
    "\n",
    "KMmodel\n",
    "\n",
    "KMmodel.labels_\n",
    "\n",
    "KMmodel.cluster_centers_\n",
    "\n",
    "data['Earned business category in numeric form'].values\n",
    "\n",
    "\n",
    "\n",
    "# data['Earned business category in numeric form'].join(\"\")\n",
    "\n",
    "pd.crosstab(data['Earned business category in numeric form'].values, KMmodel.labels_)\n",
    "\n",
    "data['predicted']=KMmodel.labels_\n",
    "\n",
    "data\n",
    "\n",
    "data.to_csv(\"/users/aniketmuluk/Desktop/prediction_500movie_kmeans.csv\", sep=',',index=False)\n",
    "\n",
    "\n",
    "print(classification_report(data['Earned business category in numeric form'],data['predicted']))"
   ]
  }
 ],
 "metadata": {
  "kernelspec": {
   "display_name": "Python 2",
   "language": "python",
   "name": "python2"
  },
  "language_info": {
   "codemirror_mode": {
    "name": "ipython",
    "version": 2
   },
   "file_extension": ".py",
   "mimetype": "text/x-python",
   "name": "python",
   "nbconvert_exporter": "python",
   "pygments_lexer": "ipython2",
   "version": "2.7.15"
  }
 },
 "nbformat": 4,
 "nbformat_minor": 2
}
